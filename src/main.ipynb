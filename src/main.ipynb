{
 "cells": [
  {
   "cell_type": "code",
   "execution_count": 3,
   "metadata": {},
   "outputs": [],
   "source": [
    "using Pkg; pkg\"activate ../.\""
   ]
  },
  {
   "cell_type": "code",
   "execution_count": 4,
   "metadata": {},
   "outputs": [
    {
     "name": "stderr",
     "output_type": "stream",
     "text": [
      "┌ Info: Precompiling DataFrames [a93c6f00-e57d-5684-b7b6-d8193f3e46c0]\n",
      "└ @ Base loading.jl:1186\n"
     ]
    }
   ],
   "source": [
    "using DataFrames"
   ]
  },
  {
   "cell_type": "code",
   "execution_count": 5,
   "metadata": {},
   "outputs": [
    {
     "data": {
      "text/html": [
       "<table class=\"data-frame\"><thead><tr><th></th><th>a</th><th>b</th></tr><tr><th></th><th>Float64</th><th>Float64</th></tr></thead><tbody><p>10 rows × 2 columns</p><tr><th>1</th><td>0.847443</td><td>0.640818</td></tr><tr><th>2</th><td>0.74825</td><td>0.125399</td></tr><tr><th>3</th><td>0.0392345</td><td>0.220946</td></tr><tr><th>4</th><td>0.684976</td><td>0.72315</td></tr><tr><th>5</th><td>0.457643</td><td>0.297539</td></tr><tr><th>6</th><td>0.991328</td><td>0.222357</td></tr><tr><th>7</th><td>0.817583</td><td>0.321958</td></tr><tr><th>8</th><td>0.382896</td><td>0.481592</td></tr><tr><th>9</th><td>0.516234</td><td>0.193527</td></tr><tr><th>10</th><td>0.76513</td><td>0.855598</td></tr></tbody></table>"
      ],
      "text/latex": [
       "\\begin{tabular}{r|cc}\n",
       "\t& a & b\\\\\n",
       "\t\\hline\n",
       "\t& Float64 & Float64\\\\\n",
       "\t\\hline\n",
       "\t1 & 0.847443 & 0.640818 \\\\\n",
       "\t2 & 0.74825 & 0.125399 \\\\\n",
       "\t3 & 0.0392345 & 0.220946 \\\\\n",
       "\t4 & 0.684976 & 0.72315 \\\\\n",
       "\t5 & 0.457643 & 0.297539 \\\\\n",
       "\t6 & 0.991328 & 0.222357 \\\\\n",
       "\t7 & 0.817583 & 0.321958 \\\\\n",
       "\t8 & 0.382896 & 0.481592 \\\\\n",
       "\t9 & 0.516234 & 0.193527 \\\\\n",
       "\t10 & 0.76513 & 0.855598 \\\\\n",
       "\\end{tabular}\n"
      ],
      "text/plain": [
       "10×2 DataFrame\n",
       "│ Row │ a         │ b        │\n",
       "│     │ \u001b[90mFloat64\u001b[39m   │ \u001b[90mFloat64\u001b[39m  │\n",
       "├─────┼───────────┼──────────┤\n",
       "│ 1   │ 0.847443  │ 0.640818 │\n",
       "│ 2   │ 0.74825   │ 0.125399 │\n",
       "│ 3   │ 0.0392345 │ 0.220946 │\n",
       "│ 4   │ 0.684976  │ 0.72315  │\n",
       "│ 5   │ 0.457643  │ 0.297539 │\n",
       "│ 6   │ 0.991328  │ 0.222357 │\n",
       "│ 7   │ 0.817583  │ 0.321958 │\n",
       "│ 8   │ 0.382896  │ 0.481592 │\n",
       "│ 9   │ 0.516234  │ 0.193527 │\n",
       "│ 10  │ 0.76513   │ 0.855598 │"
      ]
     },
     "execution_count": 5,
     "metadata": {},
     "output_type": "execute_result"
    }
   ],
   "source": [
    "df = DataFrame(a=rand(10), b=rand(10))"
   ]
  }
 ],
 "metadata": {
  "kernelspec": {
   "display_name": "Julia 1.1.0",
   "language": "julia",
   "name": "julia-1.1"
  },
  "language_info": {
   "file_extension": ".jl",
   "mimetype": "application/julia",
   "name": "julia",
   "version": "1.1.0"
  }
 },
 "nbformat": 4,
 "nbformat_minor": 2
}
