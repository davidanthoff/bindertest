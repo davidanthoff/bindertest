{
 "cells": [
  {
   "cell_type": "code",
   "execution_count": 1,
   "metadata": {},
   "outputs": [
    {
     "name": "stdout",
     "output_type": "stream",
     "text": [
      "\u001b[32m\u001b[1m  Updating\u001b[22m\u001b[39m registry at `C:\\Users\\david\\.julia\\registries\\General`\n",
      "\u001b[32m\u001b[1m  Updating\u001b[22m\u001b[39m git-repo `https://github.com/JuliaRegistries/General.git`\n",
      "\u001b[2K\u001b[?25h"
     ]
    }
   ],
   "source": [
    "using Pkg; pkg\"activate ../.\"; pkg\"instantiate\""
   ]
  },
  {
   "cell_type": "code",
   "execution_count": 2,
   "metadata": {},
   "outputs": [],
   "source": [
    "using DataFrames"
   ]
  },
  {
   "cell_type": "code",
   "execution_count": 3,
   "metadata": {},
   "outputs": [
    {
     "data": {
      "text/html": [
       "<table class=\"data-frame\"><thead><tr><th></th><th>a</th><th>b</th></tr><tr><th></th><th>Float64</th><th>Float64</th></tr></thead><tbody><p>10 rows × 2 columns</p><tr><th>1</th><td>0.36569</td><td>0.194321</td></tr><tr><th>2</th><td>0.724022</td><td>0.488676</td></tr><tr><th>3</th><td>0.205905</td><td>0.368117</td></tr><tr><th>4</th><td>0.990948</td><td>0.978873</td></tr><tr><th>5</th><td>0.0131468</td><td>0.363577</td></tr><tr><th>6</th><td>0.59266</td><td>0.296959</td></tr><tr><th>7</th><td>0.970777</td><td>0.505642</td></tr><tr><th>8</th><td>0.803196</td><td>0.0972404</td></tr><tr><th>9</th><td>0.441868</td><td>0.965993</td></tr><tr><th>10</th><td>0.988567</td><td>0.93324</td></tr></tbody></table>"
      ],
      "text/latex": [
       "\\begin{tabular}{r|cc}\n",
       "\t& a & b\\\\\n",
       "\t\\hline\n",
       "\t& Float64 & Float64\\\\\n",
       "\t\\hline\n",
       "\t1 & 0.36569 & 0.194321 \\\\\n",
       "\t2 & 0.724022 & 0.488676 \\\\\n",
       "\t3 & 0.205905 & 0.368117 \\\\\n",
       "\t4 & 0.990948 & 0.978873 \\\\\n",
       "\t5 & 0.0131468 & 0.363577 \\\\\n",
       "\t6 & 0.59266 & 0.296959 \\\\\n",
       "\t7 & 0.970777 & 0.505642 \\\\\n",
       "\t8 & 0.803196 & 0.0972404 \\\\\n",
       "\t9 & 0.441868 & 0.965993 \\\\\n",
       "\t10 & 0.988567 & 0.93324 \\\\\n",
       "\\end{tabular}\n"
      ],
      "text/plain": [
       "10×2 DataFrame\n",
       "│ Row │ a         │ b         │\n",
       "│     │ \u001b[90mFloat64\u001b[39m   │ \u001b[90mFloat64\u001b[39m   │\n",
       "├─────┼───────────┼───────────┤\n",
       "│ 1   │ 0.36569   │ 0.194321  │\n",
       "│ 2   │ 0.724022  │ 0.488676  │\n",
       "│ 3   │ 0.205905  │ 0.368117  │\n",
       "│ 4   │ 0.990948  │ 0.978873  │\n",
       "│ 5   │ 0.0131468 │ 0.363577  │\n",
       "│ 6   │ 0.59266   │ 0.296959  │\n",
       "│ 7   │ 0.970777  │ 0.505642  │\n",
       "│ 8   │ 0.803196  │ 0.0972404 │\n",
       "│ 9   │ 0.441868  │ 0.965993  │\n",
       "│ 10  │ 0.988567  │ 0.93324   │"
      ]
     },
     "execution_count": 3,
     "metadata": {},
     "output_type": "execute_result"
    }
   ],
   "source": [
    "df = DataFrame(a=rand(10), b=rand(10))"
   ]
  }
 ],
 "metadata": {
  "kernelspec": {
   "display_name": "Julia 1.1.0",
   "language": "julia",
   "name": "julia-1.1"
  },
  "language_info": {
   "file_extension": ".jl",
   "mimetype": "application/julia",
   "name": "julia",
   "version": "1.1.0"
  }
 },
 "nbformat": 4,
 "nbformat_minor": 2
}
